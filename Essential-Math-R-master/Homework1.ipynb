{
 "cells": [
  {
   "cell_type": "code",
   "execution_count": 1,
   "metadata": {},
   "outputs": [
    {
     "name": "stderr",
     "output_type": "stream",
     "text": [
      "Registered S3 methods overwritten by 'ggplot2':\n",
      "  method         from \n",
      "  [.quosures     rlang\n",
      "  c.quosures     rlang\n",
      "  print.quosures rlang\n"
     ]
    },
    {
     "data": {
      "image/png": "[encoded data removed]",
      "text/plain": [
       "plot without title"
      ]
     },
     "metadata": {},
     "output_type": "display_data"
    }
   ],
   "source": [
    "library(ggplot2)\n",
    "library(repr)\n",
    "options(repr.plot.width=3.5, repr.plot.height=3) # Set the initial plot area dimensions\n",
    "\n",
    "## Define the function\n",
    "f = function(x) 2*x^2 - 33*x + 91\n",
    "\n",
    "df1 = data.frame(x = seq(0,15))\n",
    "df1$f = f(df1$x)\n",
    "\n",
    "ggplot(df1, aes(x,f)) +\n",
    "    geom_line(color = 'red') + geom_hline(yintercept=0) + geom_vline(xintercept=0) + ylab('y')"
   ]
  },
  {
   "cell_type": "code",
   "execution_count": 45,
   "metadata": {},
   "outputs": [
    {
     "data": {
      "image/png": "[encoded data removed]",
      "text/plain": [
       "plot without title"
      ]
     },
     "metadata": {},
     "output_type": "display_data"
    }
   ],
   "source": [
    "plot_parabola = function(a, b, c){\n",
    "    # get the x value for the line of symmetry\n",
    "    vx = (-1*b)/(2*a)\n",
    "    \n",
    "    # get the y value when x is at the line of symmetry\n",
    "    vy = a*vx^2 + b*vx + c\n",
    "\n",
    "    # Create a dataframe with an x column containing values from x-8 to x+8\n",
    "    minx = as.integer(vx - 8)\n",
    "    maxx = as.integer(vx + 8)\n",
    "    df = data.frame(x = seq(minx, maxx))\n",
    "    \n",
    "    # Add a y column by applying the quadratic equation to x\n",
    "    df$y = a*df$x^2 + b*df$x + c\n",
    "\n",
    "    # get min and max y values\n",
    "    miny = min(df$y)\n",
    "    maxy = max(df$y)\n",
    "    \n",
    "    ## data frame for line of symmetry\n",
    "    symmetry = data.frame(sx = c(vx,vx), sy = c(miny,maxy))\n",
    "    \n",
    "    ## data frame for limits\n",
    "    xlims = data.frame(x = c(3.5,13), y = c(0,0))\n",
    "        \n",
    "    ## Create data frame with end points of tangent line\n",
    "    df1 = data.frame(x = c(0,15), \n",
    "                     y = c(361/104*0 - 45.125, 361/104*15 - 45.125))\n",
    "    \n",
    "    ## Data frame for shaded area polygon\n",
    "    shade2 = data.frame(x = c(seq(0,3), 3, 0))\n",
    "    shade2$y = c(f(shade2$x[1:4]), 0, 0)\n",
    "    \n",
    "    ## Plot the parabola\n",
    "    ggplot(df, aes(x,y)) + \n",
    "           geom_line(color = 'red') +\n",
    "           geom_line(data = symmetry, aes(sx,sy), color = 'red', size = 0.8) +    \n",
    "           geom_text(data = xlims, aes(label=c('3.5','13')),hjust=0, vjust=-0.5, color = 'blue', size = 2.5) +\n",
    "           annotate(\"text\", x = -0.5, y = 91, label = paste('91'), color = 'red', size = 2.5) +\n",
    "           geom_line(data = df1, aes(x,y), color = 'blue') +\n",
    "           annotate(\"text\", x = 1.5, y = -46.5, label = paste('-45.125'), color = 'red', size = 2.5) +\n",
    "           geom_hline(yintercept=0) + geom_vline(xintercept=0)\n",
    "    }\n",
    "\n",
    "plot_parabola(2, -33, 91)   "
   ]
  },
  {
   "cell_type": "code",
   "execution_count": 3,
   "metadata": {},
   "outputs": [
    {
     "data": {
      "image/png": "[encoded data removed]",
      "text/plain": [
       "plot without title"
      ]
     },
     "metadata": {},
     "output_type": "display_data"
    }
   ],
   "source": [
    "plot_parabola = function(a, b, c){\n",
    "    # get the x value for the line of symmetry\n",
    "    vx = (-1*b)/(2*a)\n",
    "    \n",
    "    # get the y value when x is at the line of symmetry\n",
    "    vy = a*vx^2 + b*vx + c\n",
    "\n",
    "    # Create a dataframe with an x column containing values from x-8 to x+8\n",
    "    minx = as.integer(vx - 8)\n",
    "    maxx = as.integer(vx + 8)\n",
    "    df = data.frame(x = seq(minx, maxx))\n",
    "    \n",
    "    # Add a y column by applying the quadratic equation to x\n",
    "    df$y = a*df$x^2 + b*df$x + c\n",
    "\n",
    "    # get min and max y values\n",
    "    miny = min(df$y)\n",
    "    maxy = max(df$y)\n",
    "    \n",
    "    ## data frame for line of symmetry\n",
    "    symmetry = data.frame(sx = c(vx,vx), sy = c(miny,maxy))\n",
    "    \n",
    "    ## data frame for limits\n",
    "    xlims = data.frame(x = c(3.5,8.25,13), y = c(0,0,0))\n",
    "        \n",
    "    ## Create data frame with the linear line 45.125/13*x - 45.125\n",
    "    df1 = data.frame(x = c(0,15), \n",
    "                     y = c(45.125/13*0 - 45.125, 45.125/13*15 - 45.125))\n",
    "    \n",
    "    ## define the linear equation\n",
    "    linear.line <- function (x) {\n",
    "        return (45.125 * (x/13 -1))\n",
    "    }\n",
    "    \n",
    "    ## solving for the two intersections\n",
    "    coff = 2\n",
    "    a <- coff\n",
    "    b <- - coff * 2 * 8.25 - 45.125/13\n",
    "    c <- coff * 8.25 * 8.25\n",
    "    root <- sqrt(b*b - 4*a*c)\n",
    "    inter1 <- (-b-root)/(2*a)\n",
    "    inter2 <- (-b+root)/(2*a)\n",
    "    inter1.y <- linear.line(inter1)\n",
    "    inter2.y <- linear.line(inter2)\n",
    "    \n",
    "    ## define the points that form the polygon\n",
    "    quadratic <- function(x) {\n",
    "        diff <- x - 8.25\n",
    "        return (coff * diff * diff - 45.125)\n",
    "    }\n",
    "    \n",
    "    ## define the polygon\n",
    "    area.x <- seq(inter1, inter2, 0.01)\n",
    "    area.y <- unlist(lapply(area.x, quadratic))\n",
    "    \n",
    "    area <- data.frame(area.x=area.x, area.y=area.y)\n",
    "    \n",
    "    ## Plot the parabola\n",
    "    ggplot(df, aes(x,y)) + \n",
    "           geom_line(color = 'red') +\n",
    "           geom_text(data = xlims, aes(label=c('3.5','8.25','13')),hjust=0, vjust=-0.5, color = 'blue', size = 2.5) +\n",
    "           annotate(\"text\", x = -0.5, y = 91, label = paste('91'), color = 'red', size = 2.5) +\n",
    "           geom_line(data = df1, aes(x,y), color = 'blue') +\n",
    "           annotate(\"text\", x = 1.5, y = -46.5, label = paste('-45.125'), color = 'red', size = 2.5) +\n",
    "           geom_polygon(data=area, aes(area.x, area.y), fill = \"orange\") +\n",
    "           geom_line(data = symmetry, aes(sx,sy), color = 'red', size = 0.8) +\n",
    "           geom_hline(yintercept=0) + geom_vline(xintercept=0)\n",
    "    }\n",
    "\n",
    "plot_parabola(2, -33, 91)   "
   ]
  },
  {
   "cell_type": "code",
   "execution_count": 52,
   "metadata": {},
   "outputs": [
    {
     "data": {
      "image/png": "[encoded data removed]",
      "text/plain": [
       "plot without title"
      ]
     },
     "metadata": {},
     "output_type": "display_data"
    }
   ],
   "source": [
    "mydata = data.frame(x=c(5.2408:13.01),\n",
    "                    func1 = sapply(mydata$x, FUN = function(x){2*x^2 - 33*x + 91}),\n",
    "                    func2 = sapply(mydata$x, FUN = function(x){361/104*x - 45.125}))\n",
    "\n",
    "ggplot(mydata, aes(x=x, y = func2)) +\n",
    "  geom_line(aes(y = func1)) + \n",
    "  geom_line(aes(y = func2)) + \n",
    "  geom_ribbon(aes(ymin = func2, ymax = func1), fill = \"blue\", alpha = .5)"
   ]
  },
  {
   "cell_type": "code",
   "execution_count": 5,
   "metadata": {},
   "outputs": [
    {
     "ename": "ERROR",
     "evalue": "Error: You're passing a function as global data.\nHave you misspelled the `data` argument in `ggplot()`\n",
     "output_type": "error",
     "traceback": [
      "Error: You're passing a function as global data.\nHave you misspelled the `data` argument in `ggplot()`\nTraceback:\n",
      "1. ggplot(df)",
      "2. ggplot.function(df)",
      "3. stop(\"You're passing a function as global data.\\nHave you misspelled the `data` argument in `ggplot()`\", \n .     call. = FALSE)"
     ]
    }
   ],
   "source": [
    "# create plot object with loess regression lines\n",
    "g1 <- ggplot(df) + \n",
    "  stat_smooth(aes(x = x, y = ymin, colour = \"min\"), method = \"loess\", se = FALSE) +\n",
    "  stat_smooth(aes(x = x, y = ymax, colour = \"max\"), method = \"loess\", se = FALSE)\n",
    "g1\n",
    "\n",
    "# build plot object for rendering \n",
    "gg1 <- ggplot_build(g1)\n",
    "\n",
    "# extract data for the loess lines from the 'data' slot\n",
    "df2 <- data.frame(x = gg1$data[[1]]$x,\n",
    "                  ymin = gg1$data[[1]]$y,\n",
    "                  ymax = gg1$data[[2]]$y) \n",
    "\n",
    "# use the loess data to add the 'ribbon' to plot \n",
    "g1 +\n",
    "  geom_ribbon(data = df2, aes(x = x, ymin = ymin, ymax = ymax),\n",
    "              fill = \"grey\", alpha = 0.4)"
   ]
  },
  {
   "cell_type": "code",
   "execution_count": 10,
   "metadata": {},
   "outputs": [],
   "source": [
    "mydata <- data.frame(x=c(0:100),\n",
    "                    func1 = sapply(mydata$x, FUN = function(x){20*sqrt(x)}),\n",
    "                    func2 = sapply(mydata$x, FUN = function(x){50*sqrt(x)}))"
   ]
  },
  {
   "cell_type": "code",
   "execution_count": 51,
   "metadata": {},
   "outputs": [],
   "source": [
    "mydata = data.frame(x=c(5.21:13.01))"
   ]
  },
  {
   "cell_type": "code",
   "execution_count": null,
   "metadata": {},
   "outputs": [],
   "source": []
  }
 ],
 "metadata": {
  "kernelspec": {
   "display_name": "R",
   "language": "R",
   "name": "ir"
  },
  "language_info": {
   "codemirror_mode": "r",
   "file_extension": ".r",
   "mimetype": "text/x-r-source",
   "name": "R",
   "pygments_lexer": "r",
   "version": "3.6.1"
  }
 },
 "nbformat": 4,
 "nbformat_minor": 4
}
